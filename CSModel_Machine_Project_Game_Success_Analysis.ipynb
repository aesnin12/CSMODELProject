{
  "nbformat": 4,
  "nbformat_minor": 0,
  "metadata": {
    "colab": {
      "provenance": [],
      "authorship_tag": "ABX9TyPudzYJtg4yIRhPUN1BVaE/",
      "include_colab_link": true
    },
    "kernelspec": {
      "name": "python3",
      "display_name": "Python 3"
    },
    "language_info": {
      "name": "python"
    }
  },
  "cells": [
    {
      "cell_type": "markdown",
      "metadata": {
        "id": "view-in-github",
        "colab_type": "text"
      },
      "source": [
        "<a href=\"https://colab.research.google.com/github/aesnin12/CSMODELProject/blob/main/CSModel_Machine_Project_Game_Success_Analysis.ipynb\" target=\"_parent\"><img src=\"https://colab.research.google.com/assets/colab-badge.svg\" alt=\"Open In Colab\"/></a>"
      ]
    },
    {
      "cell_type": "markdown",
      "source": [
        "## Data Description\n",
        "\n",
        "### Analyzing game success criteria using [Steam Games Dataset ](https://www.kaggle.com/datasets/fronkongames/steam-games-dataset)\n",
        "\n",
        "##### This study uses the Steam Games Dataset by FronkonGames, which contains information on over 80,000 Steam games. Each record represents a single game and includes data such as title, release date, price, user reviews, playtime statistics, and developer or publisher details. The dataset enables analysis of what factors contribute to a game’s success in terms of ownership, playtime, and ratings."
      ],
      "metadata": {
        "id": "xXyM-yLmeLGF"
      }
    },
    {
      "cell_type": "code",
      "execution_count": null,
      "metadata": {
        "id": "ToY3edPedM6G"
      },
      "outputs": [],
      "source": []
    },
    {
      "cell_type": "markdown",
      "source": [],
      "metadata": {
        "id": "Zvn8IorHfYjH"
      }
    }
  ]
}