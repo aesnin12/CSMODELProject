{
  "nbformat": 4,
  "nbformat_minor": 0,
  "metadata": {
    "colab": {
      "provenance": [],
      "include_colab_link": true
    },
    "kernelspec": {
      "name": "python3",
      "display_name": "Python 3"
    },
    "language_info": {
      "name": "python"
    }
  },
  "cells": [
    {
      "cell_type": "markdown",
      "metadata": {
        "id": "view-in-github",
        "colab_type": "text"
      },
      "source": [
        "<a href=\"https://colab.research.google.com/github/aesnin12/CSMODELProject/blob/main/CSModel_Machine_Project_Game_Success_Analysis.ipynb\" target=\"_parent\"><img src=\"https://colab.research.google.com/assets/colab-badge.svg\" alt=\"Open In Colab\"/></a>"
      ]
    },
    {
      "cell_type": "markdown",
      "source": [
        "## Dataset Description\n",
        "\n",
        "### Analyzing game success criteria using [Video Game Sales and Ratings ](https://www.kaggle.com/datasets/kendallgillies/video-game-sales-and-ratings?resource=download)\n",
        "\n",
        "##### This study uses the Video Game Sales and Ratings Dataset by VGChartz, which contains information on over 12,080 games. Each record represents a single game and includes data such as title, release date, price, user reviews, playtime statistics, and developer or publisher details. The dataset enables analysis of what factors contribute to a game’s success in terms of ownership, playtime, and ratings.\n",
        "\n",
        "##### The data collection process of this dataset was used with the Steam Web API and SteamSpy, with data collected through a custom scraper that retrieved all publicly available game metadata. Only official games (not DLCs or apps) were included. Implications are applied such as\n",
        "\n",
        "*   Data reflects publicly available information, so metrics like ownership are estimates.\n",
        "*   The dataset represents a snapshot in time, and values such as reviews and playtime may change.\n",
        "*   Some variables contain missing or inconsistent values, which must be handled carefully to ensure fair comparisons.\n",
        "\n",
        "##### The dataset structure is stored as a CSV file which describes row as a singl Steam game and column as specific attribute or variable (e.g., price, owners, playtime, rating)"
      ],
      "metadata": {
        "id": "xXyM-yLmeLGF"
      }
    },
    {
      "cell_type": "markdown",
      "source": [
        "### Variable Descriptions of the dataset\n",
        "\n",
        "| Variable | Description |\n",
        "|-----------|-------------|\n",
        "| Variable          | Description                                               |\n",
        "| ----------------- | --------------------------------------------------------- |\n",
        "| `Name`            | Title of the video game                                   |\n",
        "| `Platform`        | The gaming platform (e.g. Wii, NES, PS4)                  |\n",
        "| `Year_of_Release` | Year when the game was released                           |\n",
        "| `Genre`           | Genre (category) of the game (e.g. Sports, Racing)        |\n",
        "| `Publisher`       | Company that published the game                           |\n",
        "| `NA_Sales`        | Sales in North America (in millions of units)             |\n",
        "| `EU_Sales`        | Sales in Europe (in millions of units)                    |\n",
        "| `JP_Sales`        | Sales in Japan (in millions of units)                     |\n",
        "| `Other_Sales`     | Sales in the rest of the world (in millions of units)     |\n",
        "| `Global_Sales`    | Total worldwide sales (in millions of units)              |\n",
        "| `Critic_Score`    | Average critic review score (typically 0–100)             |\n",
        "| `Critic_Count`    | Number of critic reviews used to compute the critic score |\n",
        "| `User_Score`      | Average user review score (typically on a 0–10 scale)     |\n",
        "| `User_Count`      | Number of user reviews used to compute the user score     |\n",
        "| `Developer`       | Studio or company that developed the game                 |\n",
        "| `Rating`          | Age/content rating (e.g. ESRB ratings: E, T, M, etc.)     |"
      ],
      "metadata": {
        "id": "7-wyyLI8m8qn"
      }
    },
    {
      "cell_type": "markdown",
      "source": [
        "## Dataset Cleaning\n",
        "\n"
      ],
      "metadata": {
        "id": "Zvn8IorHfYjH"
      }
    },
    {
      "cell_type": "code",
      "source": [
        "import pandas as pd\n",
        "import numpy as np\n",
        "import matplotlib.pyplot as plt\n",
        "import seaborn as sns\n"
      ],
      "metadata": {
        "id": "bebPjLhJoA-g"
      },
      "execution_count": 105,
      "outputs": []
    },
    {
      "cell_type": "code",
      "execution_count": 106,
      "metadata": {
        "id": "ToY3edPedM6G",
        "colab": {
          "base_uri": "https://localhost:8080/",
          "height": 330
        },
        "outputId": "ba2de04f-e19c-497c-eae4-fb12ade2869e"
      },
      "outputs": [
        {
          "output_type": "stream",
          "name": "stdout",
          "text": [
            "Using Colab cache for faster access to the 'video-game-sales-and-ratings' dataset.\n",
            "Path to dataset files: /kaggle/input/video-game-sales-and-ratings\n"
          ]
        },
        {
          "output_type": "execute_result",
          "data": {
            "text/plain": [
              "                       Name Platform  Year_of_Release         Genre Publisher  \\\n",
              "0                Wii Sports      Wii           2006.0        Sports  Nintendo   \n",
              "1         Super Mario Bros.      NES           1985.0      Platform  Nintendo   \n",
              "2            Mario Kart Wii      Wii           2008.0        Racing  Nintendo   \n",
              "3         Wii Sports Resort      Wii           2009.0        Sports  Nintendo   \n",
              "4  Pokemon Red/Pokemon Blue        G           1996.0  Role-Playing  Nintendo   \n",
              "\n",
              "   NA_Sales  EU_Sales  JP_Sales  Other_Sales  Global_Sales  Critic_Score  \\\n",
              "0     41.36     28.96      3.77         8.45         82.54          76.0   \n",
              "1     29.08      3.58      6.81         0.77         40.24           NaN   \n",
              "2     15.68     12.80      3.79         3.29         35.57          82.0   \n",
              "3     15.61     10.95      3.28         2.95         32.78          80.0   \n",
              "4     11.27      8.89     10.22         1.00         31.37           NaN   \n",
              "\n",
              "   Critic_Count  User_Score  User_Count Rating  \n",
              "0          51.0         8.0       324.0      E  \n",
              "1           NaN         NaN         NaN    NaN  \n",
              "2          73.0         8.3       712.0      E  \n",
              "3          73.0         8.0       193.0      E  \n",
              "4           NaN         NaN         NaN    NaN  "
            ],
            "text/html": [
              "\n",
              "  <div id=\"df-da001a4a-90ee-4ff8-8e29-0da7717c0541\" class=\"colab-df-container\">\n",
              "    <div>\n",
              "<style scoped>\n",
              "    .dataframe tbody tr th:only-of-type {\n",
              "        vertical-align: middle;\n",
              "    }\n",
              "\n",
              "    .dataframe tbody tr th {\n",
              "        vertical-align: top;\n",
              "    }\n",
              "\n",
              "    .dataframe thead th {\n",
              "        text-align: right;\n",
              "    }\n",
              "</style>\n",
              "<table border=\"1\" class=\"dataframe\">\n",
              "  <thead>\n",
              "    <tr style=\"text-align: right;\">\n",
              "      <th></th>\n",
              "      <th>Name</th>\n",
              "      <th>Platform</th>\n",
              "      <th>Year_of_Release</th>\n",
              "      <th>Genre</th>\n",
              "      <th>Publisher</th>\n",
              "      <th>NA_Sales</th>\n",
              "      <th>EU_Sales</th>\n",
              "      <th>JP_Sales</th>\n",
              "      <th>Other_Sales</th>\n",
              "      <th>Global_Sales</th>\n",
              "      <th>Critic_Score</th>\n",
              "      <th>Critic_Count</th>\n",
              "      <th>User_Score</th>\n",
              "      <th>User_Count</th>\n",
              "      <th>Rating</th>\n",
              "    </tr>\n",
              "  </thead>\n",
              "  <tbody>\n",
              "    <tr>\n",
              "      <th>0</th>\n",
              "      <td>Wii Sports</td>\n",
              "      <td>Wii</td>\n",
              "      <td>2006.0</td>\n",
              "      <td>Sports</td>\n",
              "      <td>Nintendo</td>\n",
              "      <td>41.36</td>\n",
              "      <td>28.96</td>\n",
              "      <td>3.77</td>\n",
              "      <td>8.45</td>\n",
              "      <td>82.54</td>\n",
              "      <td>76.0</td>\n",
              "      <td>51.0</td>\n",
              "      <td>8.0</td>\n",
              "      <td>324.0</td>\n",
              "      <td>E</td>\n",
              "    </tr>\n",
              "    <tr>\n",
              "      <th>1</th>\n",
              "      <td>Super Mario Bros.</td>\n",
              "      <td>NES</td>\n",
              "      <td>1985.0</td>\n",
              "      <td>Platform</td>\n",
              "      <td>Nintendo</td>\n",
              "      <td>29.08</td>\n",
              "      <td>3.58</td>\n",
              "      <td>6.81</td>\n",
              "      <td>0.77</td>\n",
              "      <td>40.24</td>\n",
              "      <td>NaN</td>\n",
              "      <td>NaN</td>\n",
              "      <td>NaN</td>\n",
              "      <td>NaN</td>\n",
              "      <td>NaN</td>\n",
              "    </tr>\n",
              "    <tr>\n",
              "      <th>2</th>\n",
              "      <td>Mario Kart Wii</td>\n",
              "      <td>Wii</td>\n",
              "      <td>2008.0</td>\n",
              "      <td>Racing</td>\n",
              "      <td>Nintendo</td>\n",
              "      <td>15.68</td>\n",
              "      <td>12.80</td>\n",
              "      <td>3.79</td>\n",
              "      <td>3.29</td>\n",
              "      <td>35.57</td>\n",
              "      <td>82.0</td>\n",
              "      <td>73.0</td>\n",
              "      <td>8.3</td>\n",
              "      <td>712.0</td>\n",
              "      <td>E</td>\n",
              "    </tr>\n",
              "    <tr>\n",
              "      <th>3</th>\n",
              "      <td>Wii Sports Resort</td>\n",
              "      <td>Wii</td>\n",
              "      <td>2009.0</td>\n",
              "      <td>Sports</td>\n",
              "      <td>Nintendo</td>\n",
              "      <td>15.61</td>\n",
              "      <td>10.95</td>\n",
              "      <td>3.28</td>\n",
              "      <td>2.95</td>\n",
              "      <td>32.78</td>\n",
              "      <td>80.0</td>\n",
              "      <td>73.0</td>\n",
              "      <td>8.0</td>\n",
              "      <td>193.0</td>\n",
              "      <td>E</td>\n",
              "    </tr>\n",
              "    <tr>\n",
              "      <th>4</th>\n",
              "      <td>Pokemon Red/Pokemon Blue</td>\n",
              "      <td>G</td>\n",
              "      <td>1996.0</td>\n",
              "      <td>Role-Playing</td>\n",
              "      <td>Nintendo</td>\n",
              "      <td>11.27</td>\n",
              "      <td>8.89</td>\n",
              "      <td>10.22</td>\n",
              "      <td>1.00</td>\n",
              "      <td>31.37</td>\n",
              "      <td>NaN</td>\n",
              "      <td>NaN</td>\n",
              "      <td>NaN</td>\n",
              "      <td>NaN</td>\n",
              "      <td>NaN</td>\n",
              "    </tr>\n",
              "  </tbody>\n",
              "</table>\n",
              "</div>\n",
              "    <div class=\"colab-df-buttons\">\n",
              "\n",
              "  <div class=\"colab-df-container\">\n",
              "    <button class=\"colab-df-convert\" onclick=\"convertToInteractive('df-da001a4a-90ee-4ff8-8e29-0da7717c0541')\"\n",
              "            title=\"Convert this dataframe to an interactive table.\"\n",
              "            style=\"display:none;\">\n",
              "\n",
              "  <svg xmlns=\"http://www.w3.org/2000/svg\" height=\"24px\" viewBox=\"0 -960 960 960\">\n",
              "    <path d=\"M120-120v-720h720v720H120Zm60-500h600v-160H180v160Zm220 220h160v-160H400v160Zm0 220h160v-160H400v160ZM180-400h160v-160H180v160Zm440 0h160v-160H620v160ZM180-180h160v-160H180v160Zm440 0h160v-160H620v160Z\"/>\n",
              "  </svg>\n",
              "    </button>\n",
              "\n",
              "  <style>\n",
              "    .colab-df-container {\n",
              "      display:flex;\n",
              "      gap: 12px;\n",
              "    }\n",
              "\n",
              "    .colab-df-convert {\n",
              "      background-color: #E8F0FE;\n",
              "      border: none;\n",
              "      border-radius: 50%;\n",
              "      cursor: pointer;\n",
              "      display: none;\n",
              "      fill: #1967D2;\n",
              "      height: 32px;\n",
              "      padding: 0 0 0 0;\n",
              "      width: 32px;\n",
              "    }\n",
              "\n",
              "    .colab-df-convert:hover {\n",
              "      background-color: #E2EBFA;\n",
              "      box-shadow: 0px 1px 2px rgba(60, 64, 67, 0.3), 0px 1px 3px 1px rgba(60, 64, 67, 0.15);\n",
              "      fill: #174EA6;\n",
              "    }\n",
              "\n",
              "    .colab-df-buttons div {\n",
              "      margin-bottom: 4px;\n",
              "    }\n",
              "\n",
              "    [theme=dark] .colab-df-convert {\n",
              "      background-color: #3B4455;\n",
              "      fill: #D2E3FC;\n",
              "    }\n",
              "\n",
              "    [theme=dark] .colab-df-convert:hover {\n",
              "      background-color: #434B5C;\n",
              "      box-shadow: 0px 1px 3px 1px rgba(0, 0, 0, 0.15);\n",
              "      filter: drop-shadow(0px 1px 2px rgba(0, 0, 0, 0.3));\n",
              "      fill: #FFFFFF;\n",
              "    }\n",
              "  </style>\n",
              "\n",
              "    <script>\n",
              "      const buttonEl =\n",
              "        document.querySelector('#df-da001a4a-90ee-4ff8-8e29-0da7717c0541 button.colab-df-convert');\n",
              "      buttonEl.style.display =\n",
              "        google.colab.kernel.accessAllowed ? 'block' : 'none';\n",
              "\n",
              "      async function convertToInteractive(key) {\n",
              "        const element = document.querySelector('#df-da001a4a-90ee-4ff8-8e29-0da7717c0541');\n",
              "        const dataTable =\n",
              "          await google.colab.kernel.invokeFunction('convertToInteractive',\n",
              "                                                    [key], {});\n",
              "        if (!dataTable) return;\n",
              "\n",
              "        const docLinkHtml = 'Like what you see? Visit the ' +\n",
              "          '<a target=\"_blank\" href=https://colab.research.google.com/notebooks/data_table.ipynb>data table notebook</a>'\n",
              "          + ' to learn more about interactive tables.';\n",
              "        element.innerHTML = '';\n",
              "        dataTable['output_type'] = 'display_data';\n",
              "        await google.colab.output.renderOutput(dataTable, element);\n",
              "        const docLink = document.createElement('div');\n",
              "        docLink.innerHTML = docLinkHtml;\n",
              "        element.appendChild(docLink);\n",
              "      }\n",
              "    </script>\n",
              "  </div>\n",
              "\n",
              "\n",
              "    <div id=\"df-f7e67b50-42d6-44d2-8729-96744b2bb308\">\n",
              "      <button class=\"colab-df-quickchart\" onclick=\"quickchart('df-f7e67b50-42d6-44d2-8729-96744b2bb308')\"\n",
              "                title=\"Suggest charts\"\n",
              "                style=\"display:none;\">\n",
              "\n",
              "<svg xmlns=\"http://www.w3.org/2000/svg\" height=\"24px\"viewBox=\"0 0 24 24\"\n",
              "     width=\"24px\">\n",
              "    <g>\n",
              "        <path d=\"M19 3H5c-1.1 0-2 .9-2 2v14c0 1.1.9 2 2 2h14c1.1 0 2-.9 2-2V5c0-1.1-.9-2-2-2zM9 17H7v-7h2v7zm4 0h-2V7h2v10zm4 0h-2v-4h2v4z\"/>\n",
              "    </g>\n",
              "</svg>\n",
              "      </button>\n",
              "\n",
              "<style>\n",
              "  .colab-df-quickchart {\n",
              "      --bg-color: #E8F0FE;\n",
              "      --fill-color: #1967D2;\n",
              "      --hover-bg-color: #E2EBFA;\n",
              "      --hover-fill-color: #174EA6;\n",
              "      --disabled-fill-color: #AAA;\n",
              "      --disabled-bg-color: #DDD;\n",
              "  }\n",
              "\n",
              "  [theme=dark] .colab-df-quickchart {\n",
              "      --bg-color: #3B4455;\n",
              "      --fill-color: #D2E3FC;\n",
              "      --hover-bg-color: #434B5C;\n",
              "      --hover-fill-color: #FFFFFF;\n",
              "      --disabled-bg-color: #3B4455;\n",
              "      --disabled-fill-color: #666;\n",
              "  }\n",
              "\n",
              "  .colab-df-quickchart {\n",
              "    background-color: var(--bg-color);\n",
              "    border: none;\n",
              "    border-radius: 50%;\n",
              "    cursor: pointer;\n",
              "    display: none;\n",
              "    fill: var(--fill-color);\n",
              "    height: 32px;\n",
              "    padding: 0;\n",
              "    width: 32px;\n",
              "  }\n",
              "\n",
              "  .colab-df-quickchart:hover {\n",
              "    background-color: var(--hover-bg-color);\n",
              "    box-shadow: 0 1px 2px rgba(60, 64, 67, 0.3), 0 1px 3px 1px rgba(60, 64, 67, 0.15);\n",
              "    fill: var(--button-hover-fill-color);\n",
              "  }\n",
              "\n",
              "  .colab-df-quickchart-complete:disabled,\n",
              "  .colab-df-quickchart-complete:disabled:hover {\n",
              "    background-color: var(--disabled-bg-color);\n",
              "    fill: var(--disabled-fill-color);\n",
              "    box-shadow: none;\n",
              "  }\n",
              "\n",
              "  .colab-df-spinner {\n",
              "    border: 2px solid var(--fill-color);\n",
              "    border-color: transparent;\n",
              "    border-bottom-color: var(--fill-color);\n",
              "    animation:\n",
              "      spin 1s steps(1) infinite;\n",
              "  }\n",
              "\n",
              "  @keyframes spin {\n",
              "    0% {\n",
              "      border-color: transparent;\n",
              "      border-bottom-color: var(--fill-color);\n",
              "      border-left-color: var(--fill-color);\n",
              "    }\n",
              "    20% {\n",
              "      border-color: transparent;\n",
              "      border-left-color: var(--fill-color);\n",
              "      border-top-color: var(--fill-color);\n",
              "    }\n",
              "    30% {\n",
              "      border-color: transparent;\n",
              "      border-left-color: var(--fill-color);\n",
              "      border-top-color: var(--fill-color);\n",
              "      border-right-color: var(--fill-color);\n",
              "    }\n",
              "    40% {\n",
              "      border-color: transparent;\n",
              "      border-right-color: var(--fill-color);\n",
              "      border-top-color: var(--fill-color);\n",
              "    }\n",
              "    60% {\n",
              "      border-color: transparent;\n",
              "      border-right-color: var(--fill-color);\n",
              "    }\n",
              "    80% {\n",
              "      border-color: transparent;\n",
              "      border-right-color: var(--fill-color);\n",
              "      border-bottom-color: var(--fill-color);\n",
              "    }\n",
              "    90% {\n",
              "      border-color: transparent;\n",
              "      border-bottom-color: var(--fill-color);\n",
              "    }\n",
              "  }\n",
              "</style>\n",
              "\n",
              "      <script>\n",
              "        async function quickchart(key) {\n",
              "          const quickchartButtonEl =\n",
              "            document.querySelector('#' + key + ' button');\n",
              "          quickchartButtonEl.disabled = true;  // To prevent multiple clicks.\n",
              "          quickchartButtonEl.classList.add('colab-df-spinner');\n",
              "          try {\n",
              "            const charts = await google.colab.kernel.invokeFunction(\n",
              "                'suggestCharts', [key], {});\n",
              "          } catch (error) {\n",
              "            console.error('Error during call to suggestCharts:', error);\n",
              "          }\n",
              "          quickchartButtonEl.classList.remove('colab-df-spinner');\n",
              "          quickchartButtonEl.classList.add('colab-df-quickchart-complete');\n",
              "        }\n",
              "        (() => {\n",
              "          let quickchartButtonEl =\n",
              "            document.querySelector('#df-f7e67b50-42d6-44d2-8729-96744b2bb308 button');\n",
              "          quickchartButtonEl.style.display =\n",
              "            google.colab.kernel.accessAllowed ? 'block' : 'none';\n",
              "        })();\n",
              "      </script>\n",
              "    </div>\n",
              "\n",
              "    </div>\n",
              "  </div>\n"
            ],
            "application/vnd.google.colaboratory.intrinsic+json": {
              "type": "dataframe",
              "variable_name": "df",
              "summary": "{\n  \"name\": \"df\",\n  \"rows\": 17416,\n  \"fields\": [\n    {\n      \"column\": \"Name\",\n      \"properties\": {\n        \"dtype\": \"string\",\n        \"num_unique_values\": 12080,\n        \"samples\": [\n          \"Hankou Shashin\",\n          \"Railroad Tycoon 3\",\n          \"RPG Maker\"\n        ],\n        \"semantic_type\": \"\",\n        \"description\": \"\"\n      }\n    },\n    {\n      \"column\": \"Platform\",\n      \"properties\": {\n        \"dtype\": \"category\",\n        \"num_unique_values\": 31,\n        \"samples\": [\n          \"TG16\",\n          \"2600\",\n          \"SAT\"\n        ],\n        \"semantic_type\": \"\",\n        \"description\": \"\"\n      }\n    },\n    {\n      \"column\": \"Year_of_Release\",\n      \"properties\": {\n        \"dtype\": \"number\",\n        \"std\": 5.901597778730523,\n        \"min\": 1976.0,\n        \"max\": 2017.0,\n        \"num_unique_values\": 42,\n        \"samples\": [\n          1993.0,\n          1990.0,\n          1999.0\n        ],\n        \"semantic_type\": \"\",\n        \"description\": \"\"\n      }\n    },\n    {\n      \"column\": \"Genre\",\n      \"properties\": {\n        \"dtype\": \"category\",\n        \"num_unique_values\": 12,\n        \"samples\": [\n          \"Adventure\",\n          \"Fighting\",\n          \"Sports\"\n        ],\n        \"semantic_type\": \"\",\n        \"description\": \"\"\n      }\n    },\n    {\n      \"column\": \"Publisher\",\n      \"properties\": {\n        \"dtype\": \"category\",\n        \"num_unique_values\": 627,\n        \"samples\": [\n          \"SystemSoft Alpha\",\n          \"Red Flagship\",\n          \"Focus Multimedia\"\n        ],\n        \"semantic_type\": \"\",\n        \"description\": \"\"\n      }\n    },\n    {\n      \"column\": \"NA_Sales\",\n      \"properties\": {\n        \"dtype\": \"number\",\n        \"std\": 0.8006725432963661,\n        \"min\": 0.0,\n        \"max\": 41.36,\n        \"num_unique_values\": 399,\n        \"samples\": [\n          0.2,\n          0.97,\n          5.89\n        ],\n        \"semantic_type\": \"\",\n        \"description\": \"\"\n      }\n    },\n    {\n      \"column\": \"EU_Sales\",\n      \"properties\": {\n        \"dtype\": \"number\",\n        \"std\": 0.49734051238083776,\n        \"min\": 0.0,\n        \"max\": 28.96,\n        \"num_unique_values\": 306,\n        \"samples\": [\n          1.51,\n          0.98,\n          1.3\n        ],\n        \"semantic_type\": \"\",\n        \"description\": \"\"\n      }\n    },\n    {\n      \"column\": \"JP_Sales\",\n      \"properties\": {\n        \"dtype\": \"number\",\n        \"std\": 0.30341215749569234,\n        \"min\": 0.0,\n        \"max\": 10.22,\n        \"num_unique_values\": 245,\n        \"samples\": [\n          0.47,\n          6.5,\n          0.51\n        ],\n        \"semantic_type\": \"\",\n        \"description\": \"\"\n      }\n    },\n    {\n      \"column\": \"Other_Sales\",\n      \"properties\": {\n        \"dtype\": \"number\",\n        \"std\": 0.1839321720441506,\n        \"min\": 0.0,\n        \"max\": 10.57,\n        \"num_unique_values\": 157,\n        \"samples\": [\n          0.32,\n          0.23,\n          0.1\n        ],\n        \"semantic_type\": \"\",\n        \"description\": \"\"\n      }\n    },\n    {\n      \"column\": \"Global_Sales\",\n      \"properties\": {\n        \"dtype\": \"number\",\n        \"std\": 1.5261242430618591,\n        \"min\": 0.01,\n        \"max\": 82.54,\n        \"num_unique_values\": 627,\n        \"samples\": [\n          0.47,\n          0.37,\n          0.77\n        ],\n        \"semantic_type\": \"\",\n        \"description\": \"\"\n      }\n    },\n    {\n      \"column\": \"Critic_Score\",\n      \"properties\": {\n        \"dtype\": \"number\",\n        \"std\": 13.964937013983855,\n        \"min\": 13.0,\n        \"max\": 98.0,\n        \"num_unique_values\": 82,\n        \"samples\": [\n          67.0,\n          76.0,\n          74.0\n        ],\n        \"semantic_type\": \"\",\n        \"description\": \"\"\n      }\n    },\n    {\n      \"column\": \"Critic_Count\",\n      \"properties\": {\n        \"dtype\": \"number\",\n        \"std\": 18.991525639185348,\n        \"min\": 3.0,\n        \"max\": 113.0,\n        \"num_unique_values\": 106,\n        \"samples\": [\n          5.0,\n          58.0,\n          80.0\n        ],\n        \"semantic_type\": \"\",\n        \"description\": \"\"\n      }\n    },\n    {\n      \"column\": \"User_Score\",\n      \"properties\": {\n        \"dtype\": \"number\",\n        \"std\": 1.502410170820808,\n        \"min\": 0.0,\n        \"max\": 9.7,\n        \"num_unique_values\": 95,\n        \"samples\": [\n          2.2,\n          8.8,\n          3.6\n        ],\n        \"semantic_type\": \"\",\n        \"description\": \"\"\n      }\n    },\n    {\n      \"column\": \"User_Count\",\n      \"properties\": {\n        \"dtype\": \"number\",\n        \"std\": 562.8379537711008,\n        \"min\": 4.0,\n        \"max\": 10766.0,\n        \"num_unique_values\": 903,\n        \"samples\": [\n          110.0,\n          1868.0,\n          846.0\n        ],\n        \"semantic_type\": \"\",\n        \"description\": \"\"\n      }\n    },\n    {\n      \"column\": \"Rating\",\n      \"properties\": {\n        \"dtype\": \"category\",\n        \"num_unique_values\": 8,\n        \"samples\": [\n          \"M\",\n          \"AO\",\n          \"E\"\n        ],\n        \"semantic_type\": \"\",\n        \"description\": \"\"\n      }\n    }\n  ]\n}"
            }
          },
          "metadata": {},
          "execution_count": 106
        }
      ],
      "source": [
        "import kagglehub\n",
        "import os\n",
        "\n",
        "# Download latest version\n",
        "path = kagglehub.dataset_download(\"kendallgillies/video-game-sales-and-ratings\")\n",
        "\n",
        "print(\"Path to dataset files:\", path)\n",
        "\n",
        "df = pd.read_csv(os.path.join(path, \"Video_Game_Sales_as_of_Jan_2017.csv\"))\n",
        "df.head()"
      ]
    },
    {
      "cell_type": "code",
      "source": [
        "df.info()"
      ],
      "metadata": {
        "colab": {
          "base_uri": "https://localhost:8080/"
        },
        "id": "SXkeyLIMgUtB",
        "outputId": "5166a15e-feaf-47ca-fd1b-b8f1a8c458d1"
      },
      "execution_count": 107,
      "outputs": [
        {
          "output_type": "stream",
          "name": "stdout",
          "text": [
            "<class 'pandas.core.frame.DataFrame'>\n",
            "RangeIndex: 17416 entries, 0 to 17415\n",
            "Data columns (total 15 columns):\n",
            " #   Column           Non-Null Count  Dtype  \n",
            "---  ------           --------------  -----  \n",
            " 0   Name             17416 non-null  object \n",
            " 1   Platform         17416 non-null  object \n",
            " 2   Year_of_Release  17408 non-null  float64\n",
            " 3   Genre            17416 non-null  object \n",
            " 4   Publisher        17415 non-null  object \n",
            " 5   NA_Sales         17416 non-null  float64\n",
            " 6   EU_Sales         17416 non-null  float64\n",
            " 7   JP_Sales         17416 non-null  float64\n",
            " 8   Other_Sales      17416 non-null  float64\n",
            " 9   Global_Sales     17416 non-null  float64\n",
            " 10  Critic_Score     8336 non-null   float64\n",
            " 11  Critic_Count     8336 non-null   float64\n",
            " 12  User_Score       7798 non-null   float64\n",
            " 13  User_Count       7798 non-null   float64\n",
            " 14  Rating           10252 non-null  object \n",
            "dtypes: float64(10), object(5)\n",
            "memory usage: 2.0+ MB\n"
          ]
        }
      ]
    },
    {
      "cell_type": "code",
      "source": [
        "df.shape[0]"
      ],
      "metadata": {
        "colab": {
          "base_uri": "https://localhost:8080/"
        },
        "id": "oHRxR88hgYbL",
        "outputId": "1d9ac4ab-d4e8-4252-ab30-57d98c3ff52d"
      },
      "execution_count": 108,
      "outputs": [
        {
          "output_type": "execute_result",
          "data": {
            "text/plain": [
              "17416"
            ]
          },
          "metadata": {},
          "execution_count": 108
        }
      ]
    },
    {
      "cell_type": "code",
      "source": [
        "df['User_Score'] = pd.to_numeric(df['User_Score'], errors='coerce')\n",
        "df['Critic_Score'] = pd.to_numeric(df['Critic_Score'], errors='coerce')\n",
        "df['Year_of_Release'] = pd.to_numeric(df['Year_of_Release'], errors='coerce')\n",
        "\n",
        "df = df.dropna(subset=['Global_Sales', 'Critic_Score', 'User_Score', 'Year_of_Release'])\n"
      ],
      "metadata": {
        "id": "8icsBGtmgbF4"
      },
      "execution_count": 109,
      "outputs": []
    },
    {
      "cell_type": "code",
      "source": [
        "df.isnull().sum()"
      ],
      "metadata": {
        "colab": {
          "base_uri": "https://localhost:8080/",
          "height": 554
        },
        "id": "i6iRnS6ZglaX",
        "outputId": "427651f4-98f3-453a-9357-596385409775"
      },
      "execution_count": 110,
      "outputs": [
        {
          "output_type": "execute_result",
          "data": {
            "text/plain": [
              "Name                0\n",
              "Platform            0\n",
              "Year_of_Release     0\n",
              "Genre               0\n",
              "Publisher           0\n",
              "NA_Sales            0\n",
              "EU_Sales            0\n",
              "JP_Sales            0\n",
              "Other_Sales         0\n",
              "Global_Sales        0\n",
              "Critic_Score        0\n",
              "Critic_Count        0\n",
              "User_Score          0\n",
              "User_Count          0\n",
              "Rating             79\n",
              "dtype: int64"
            ],
            "text/html": [
              "<div>\n",
              "<style scoped>\n",
              "    .dataframe tbody tr th:only-of-type {\n",
              "        vertical-align: middle;\n",
              "    }\n",
              "\n",
              "    .dataframe tbody tr th {\n",
              "        vertical-align: top;\n",
              "    }\n",
              "\n",
              "    .dataframe thead th {\n",
              "        text-align: right;\n",
              "    }\n",
              "</style>\n",
              "<table border=\"1\" class=\"dataframe\">\n",
              "  <thead>\n",
              "    <tr style=\"text-align: right;\">\n",
              "      <th></th>\n",
              "      <th>0</th>\n",
              "    </tr>\n",
              "  </thead>\n",
              "  <tbody>\n",
              "    <tr>\n",
              "      <th>Name</th>\n",
              "      <td>0</td>\n",
              "    </tr>\n",
              "    <tr>\n",
              "      <th>Platform</th>\n",
              "      <td>0</td>\n",
              "    </tr>\n",
              "    <tr>\n",
              "      <th>Year_of_Release</th>\n",
              "      <td>0</td>\n",
              "    </tr>\n",
              "    <tr>\n",
              "      <th>Genre</th>\n",
              "      <td>0</td>\n",
              "    </tr>\n",
              "    <tr>\n",
              "      <th>Publisher</th>\n",
              "      <td>0</td>\n",
              "    </tr>\n",
              "    <tr>\n",
              "      <th>NA_Sales</th>\n",
              "      <td>0</td>\n",
              "    </tr>\n",
              "    <tr>\n",
              "      <th>EU_Sales</th>\n",
              "      <td>0</td>\n",
              "    </tr>\n",
              "    <tr>\n",
              "      <th>JP_Sales</th>\n",
              "      <td>0</td>\n",
              "    </tr>\n",
              "    <tr>\n",
              "      <th>Other_Sales</th>\n",
              "      <td>0</td>\n",
              "    </tr>\n",
              "    <tr>\n",
              "      <th>Global_Sales</th>\n",
              "      <td>0</td>\n",
              "    </tr>\n",
              "    <tr>\n",
              "      <th>Critic_Score</th>\n",
              "      <td>0</td>\n",
              "    </tr>\n",
              "    <tr>\n",
              "      <th>Critic_Count</th>\n",
              "      <td>0</td>\n",
              "    </tr>\n",
              "    <tr>\n",
              "      <th>User_Score</th>\n",
              "      <td>0</td>\n",
              "    </tr>\n",
              "    <tr>\n",
              "      <th>User_Count</th>\n",
              "      <td>0</td>\n",
              "    </tr>\n",
              "    <tr>\n",
              "      <th>Rating</th>\n",
              "      <td>79</td>\n",
              "    </tr>\n",
              "  </tbody>\n",
              "</table>\n",
              "</div><br><label><b>dtype:</b> int64</label>"
            ]
          },
          "metadata": {},
          "execution_count": 110
        }
      ]
    },
    {
      "cell_type": "code",
      "source": [
        "df.shape[0]"
      ],
      "metadata": {
        "colab": {
          "base_uri": "https://localhost:8080/"
        },
        "id": "agFR3NM1go1-",
        "outputId": "bfdedf1f-d704-490c-f58f-16a3012b1a9a"
      },
      "execution_count": 111,
      "outputs": [
        {
          "output_type": "execute_result",
          "data": {
            "text/plain": [
              "7191"
            ]
          },
          "metadata": {},
          "execution_count": 111
        }
      ]
    },
    {
      "cell_type": "code",
      "source": [
        "platform_counts = df[\"Platform\"].value_counts(dropna=False)\n",
        "print(platform_counts)"
      ],
      "metadata": {
        "colab": {
          "base_uri": "https://localhost:8080/"
        },
        "id": "yC-kikKtpklj",
        "outputId": "72ecfec0-6eca-472b-c37e-268713eaa125"
      },
      "execution_count": 112,
      "outputs": [
        {
          "output_type": "stream",
          "name": "stdout",
          "text": [
            "Platform\n",
            "PS2     1169\n",
            "X360     892\n",
            "PS3      797\n",
            "PC       779\n",
            "X        587\n",
            "Wii      494\n",
            "DS       473\n",
            "PSP      401\n",
            "GC       363\n",
            "PS4      265\n",
            "GBA      249\n",
            "XOne     175\n",
            "3DS      162\n",
            "PS       157\n",
            "PSV      125\n",
            "WiiU      89\n",
            "DC        14\n",
            "Name: count, dtype: int64\n"
          ]
        }
      ]
    },
    {
      "cell_type": "markdown",
      "source": [
        "##### Make platforms in each perspective company (Playstation, Xbox, Nintendo, PC, or Other)"
      ],
      "metadata": {
        "id": "EYS_WAKZoH4r"
      }
    },
    {
      "cell_type": "code",
      "source": [
        "platform_groups = {\n",
        "    \"PlayStation\": [\"PS\", \"PS2\", \"PS3\", \"PS4\", \"PSP\", \"PSV\"],\n",
        "    \"Xbox\": [\"X\", \"X360\", \"XONE\"],\n",
        "    \"Nintendo\": [\"NES\", \"SNES\", \"N64\", \"GC\", \"WII\", \"WIIU\", \"GBA\", \"DS\", \"3DS\", \"G\"],  # G = Game Boy\n",
        "    \"PC\": [\"PC\"],\n",
        "    \"Sega\": [\"GEN\", \"SAT\", \"DC\", \"SCD\", \"GG\"],\n",
        "    \"Atari\": [\"2600\"],\n",
        "    \"NEC\": [\"TG16\", \"PCFX\"],\n",
        "    \"SNK\": [\"NG\"],\n",
        "    \"Bandai\": [\"WS\"],\n",
        "    \"Panasonic\": [\"3DO\"],\n",
        "}\n",
        "\n",
        "# Clean and standardize platform names\n",
        "df[\"Platform\"] = df[\"Platform\"].astype(str).str.strip().str.upper()\n",
        "\n",
        "# Function to categorize each platform\n",
        "def categorize_platform(p):\n",
        "    for group, names in platform_groups.items():\n",
        "        if p in names:\n",
        "            return group\n",
        "    return \"Other\"\n",
        "\n",
        "# Apply the grouping and overwrite the column\n",
        "df[\"Platform\"] = df[\"Platform\"].apply(categorize_platform)"
      ],
      "metadata": {
        "id": "g2251MNtoEbj"
      },
      "execution_count": 113,
      "outputs": []
    },
    {
      "cell_type": "markdown",
      "source": [
        "##### Replace RP (Rating Pending) to just none."
      ],
      "metadata": {
        "id": "ooHOg7AvtTu5"
      }
    },
    {
      "cell_type": "code",
      "source": [
        "df['Rating'].replace('RP', 'No Rating', inplace=True)\n",
        "df['Rating'].fillna('No Rating', inplace=True)"
      ],
      "metadata": {
        "colab": {
          "base_uri": "https://localhost:8080/"
        },
        "id": "UGm2EGTGtSQB",
        "outputId": "a47fea6b-301e-4600-bce2-c7d76d73170f"
      },
      "execution_count": 114,
      "outputs": [
        {
          "output_type": "stream",
          "name": "stderr",
          "text": [
            "/tmp/ipython-input-127132537.py:1: FutureWarning: A value is trying to be set on a copy of a DataFrame or Series through chained assignment using an inplace method.\n",
            "The behavior will change in pandas 3.0. This inplace method will never work because the intermediate object on which we are setting values always behaves as a copy.\n",
            "\n",
            "For example, when doing 'df[col].method(value, inplace=True)', try using 'df.method({col: value}, inplace=True)' or df[col] = df[col].method(value) instead, to perform the operation inplace on the original object.\n",
            "\n",
            "\n",
            "  df['Rating'].replace('RP', 'No Rating', inplace=True)\n",
            "/tmp/ipython-input-127132537.py:2: FutureWarning: A value is trying to be set on a copy of a DataFrame or Series through chained assignment using an inplace method.\n",
            "The behavior will change in pandas 3.0. This inplace method will never work because the intermediate object on which we are setting values always behaves as a copy.\n",
            "\n",
            "For example, when doing 'df[col].method(value, inplace=True)', try using 'df.method({col: value}, inplace=True)' or df[col] = df[col].method(value) instead, to perform the operation inplace on the original object.\n",
            "\n",
            "\n",
            "  df['Rating'].fillna('No Rating', inplace=True)\n"
          ]
        }
      ]
    },
    {
      "cell_type": "markdown",
      "source": [
        "## Exploratory Data Analysis\n",
        "\n",
        "#####"
      ],
      "metadata": {
        "id": "nd3FxXkUv1Ny"
      }
    },
    {
      "cell_type": "code",
      "source": [
        "df.to_csv(\"Video_Game_Sales_Current.csv\", index=False)"
      ],
      "metadata": {
        "id": "Wo_-jKN6rm11"
      },
      "execution_count": 115,
      "outputs": []
    }
  ]
}