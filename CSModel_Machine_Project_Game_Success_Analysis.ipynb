{
  "nbformat": 4,
  "nbformat_minor": 0,
  "metadata": {
    "colab": {
      "provenance": [],
      "include_colab_link": true
    },
    "kernelspec": {
      "name": "python3",
      "display_name": "Python 3"
    },
    "language_info": {
      "name": "python"
    }
  },
  "cells": [
    {
      "cell_type": "markdown",
      "metadata": {
        "id": "view-in-github",
        "colab_type": "text"
      },
      "source": [
        "<a href=\"https://colab.research.google.com/github/aesnin12/CSMODELProject/blob/main/CSModel_Machine_Project_Game_Success_Analysis.ipynb\" target=\"_parent\"><img src=\"https://colab.research.google.com/assets/colab-badge.svg\" alt=\"Open In Colab\"/></a>"
      ]
    },
    {
      "cell_type": "markdown",
      "source": [
        "## Dataset Description\n",
        "\n",
        "### Analyzing game success criteria using [Video Game Sales and Ratings ](https://www.kaggle.com/datasets/kendallgillies/video-game-sales-and-ratings?resource=download)\n",
        "\n",
        "##### This study uses the Video Game Sales and Ratings Dataset by VGChartz, which contains information on over 12,080 games. Each record represents a single game and includes data such as title, release date, price, user reviews, playtime statistics, and developer or publisher details. The dataset enables analysis of what factors contribute to a game’s success in terms of ownership, playtime, and ratings.\n",
        "\n",
        "##### The data collection process of this dataset was used with the Steam Web API and SteamSpy, with data collected through a custom scraper that retrieved all publicly available game metadata. Only official games (not DLCs or apps) were included. Implications are applied such as\n",
        "\n",
        "*   Data reflects publicly available information, so metrics like ownership are estimates.\n",
        "*   The dataset represents a snapshot in time, and values such as reviews and playtime may change.\n",
        "*   Some variables contain missing or inconsistent values, which must be handled carefully to ensure fair comparisons.\n",
        "\n",
        "##### The dataset structure is stored as a CSV file which describes row as a singl Steam game and column as specific attribute or variable (e.g., price, owners, playtime, rating)"
      ],
      "metadata": {
        "id": "xXyM-yLmeLGF"
      }
    },
    {
      "cell_type": "markdown",
      "source": [
        "### Variable Descriptions of the dataset\n",
        "\n",
        "| Variable | Description |\n",
        "|-----------|-------------|\n",
        "| Variable          | Description                                               |\n",
        "| ----------------- | --------------------------------------------------------- |\n",
        "| `Name`            | Title of the video game                                   |\n",
        "| `Platform`        | The gaming platform (e.g. Wii, NES, PS4)                  |\n",
        "| `Year_of_Release` | Year when the game was released                           |\n",
        "| `Genre`           | Genre (category) of the game (e.g. Sports, Racing)        |\n",
        "| `Publisher`       | Company that published the game                           |\n",
        "| `NA_Sales`        | Sales in North America (in millions of units)             |\n",
        "| `EU_Sales`        | Sales in Europe (in millions of units)                    |\n",
        "| `JP_Sales`        | Sales in Japan (in millions of units)                     |\n",
        "| `Other_Sales`     | Sales in the rest of the world (in millions of units)     |\n",
        "| `Global_Sales`    | Total worldwide sales (in millions of units)              |\n",
        "| `Critic_Score`    | Average critic review score (typically 0–100)             |\n",
        "| `Critic_Count`    | Number of critic reviews used to compute the critic score |\n",
        "| `User_Score`      | Average user review score (typically on a 0–10 scale)     |\n",
        "| `User_Count`      | Number of user reviews used to compute the user score     |\n",
        "| `Developer`       | Studio or company that developed the game                 |\n",
        "| `Rating`          | Age/content rating (e.g. ESRB ratings: E, T, M, etc.)     |"
      ],
      "metadata": {
        "id": "7-wyyLI8m8qn"
      }
    },
    {
      "cell_type": "markdown",
      "source": [
        "## Dataset Cleaning\n",
        "\n"
      ],
      "metadata": {
        "id": "Zvn8IorHfYjH"
      }
    },
    {
      "cell_type": "code",
      "source": [
        "import pandas as pd\n",
        "import numpy as np\n",
        "import matplotlib.pyplot as plt\n",
        "import seaborn as sns\n"
      ],
      "metadata": {
        "id": "bebPjLhJoA-g"
      },
      "execution_count": 1,
      "outputs": []
    },
    {
      "cell_type": "code",
      "execution_count": 2,
      "metadata": {
        "id": "ToY3edPedM6G",
        "colab": {
          "base_uri": "https://localhost:8080/"
        },
        "outputId": "36eeaf15-4599-444f-a0c6-f8486574d979"
      },
      "outputs": [
        {
          "output_type": "stream",
          "name": "stdout",
          "text": [
            "Downloading from https://www.kaggle.com/api/v1/datasets/download/kendallgillies/video-game-sales-and-ratings?dataset_version_number=1...\n"
          ]
        },
        {
          "output_type": "stream",
          "name": "stderr",
          "text": [
            "100%|██████████| 436k/436k [00:00<00:00, 58.3MB/s]"
          ]
        },
        {
          "output_type": "stream",
          "name": "stdout",
          "text": [
            "Extracting files...\n",
            "Path to dataset files: /root/.cache/kagglehub/datasets/kendallgillies/video-game-sales-and-ratings/versions/1\n"
          ]
        },
        {
          "output_type": "stream",
          "name": "stderr",
          "text": [
            "\n"
          ]
        }
      ],
      "source": [
        "import kagglehub\n",
        "\n",
        "# Download latest version\n",
        "path = kagglehub.dataset_download(\"kendallgillies/video-game-sales-and-ratings\")\n",
        "\n",
        "print(\"Path to dataset files:\", path)"
      ]
    },
    {
      "cell_type": "code",
      "source": [],
      "metadata": {
        "id": "W7IgbslC4KGS"
      },
      "execution_count": null,
      "outputs": []
    }
  ]
}