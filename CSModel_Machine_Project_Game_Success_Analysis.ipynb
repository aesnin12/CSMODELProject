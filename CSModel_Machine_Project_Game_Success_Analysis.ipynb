{
  "nbformat": 4,
  "nbformat_minor": 0,
  "metadata": {
    "colab": {
      "provenance": [],
      "authorship_tag": "ABX9TyPxAQj9gXS/eqU8X4wxyQPi",
      "include_colab_link": true
    },
    "kernelspec": {
      "name": "python3",
      "display_name": "Python 3"
    },
    "language_info": {
      "name": "python"
    }
  },
  "cells": [
    {
      "cell_type": "markdown",
      "metadata": {
        "id": "view-in-github",
        "colab_type": "text"
      },
      "source": [
        "<a href=\"https://colab.research.google.com/github/aesnin12/CSMODELProject/blob/main/CSModel_Machine_Project_Game_Success_Analysis.ipynb\" target=\"_parent\"><img src=\"https://colab.research.google.com/assets/colab-badge.svg\" alt=\"Open In Colab\"/></a>"
      ]
    },
    {
      "cell_type": "markdown",
      "source": [
        "## Dataset Description\n",
        "\n",
        "### Analyzing game success criteria using [Steam Games Dataset ](https://www.kaggle.com/datasets/fronkongames/steam-games-dataset)\n",
        "\n",
        "##### This study uses the Steam Games Dataset by FronkonGames, which contains information on over 80,000 Steam games. Each record represents a single game and includes data such as title, release date, price, user reviews, playtime statistics, and developer or publisher details. The dataset enables analysis of what factors contribute to a game’s success in terms of ownership, playtime, and ratings.\n",
        "\n",
        "##### The data collection process of this dataset was used with the Steam Web API and SteamSpy, with data collected through a custom scraper that retrieved all publicly available game metadata. Only official games (not DLCs or apps) were included. Implications are applied such as\n",
        "\n",
        "*   Data reflects publicly available information, so metrics like ownership are estimates.\n",
        "*   The dataset represents a snapshot in time, and values such as reviews and playtime may change.\n",
        "*   Some variables contain missing or inconsistent values, which must be handled carefully to ensure fair comparisons.\n",
        "\n",
        "##### The dataset structure is stored as a CSV file which describes row as a singl Steam game and column as specific attribute or variable (e.g., price, owners, playtime, rating)"
      ],
      "metadata": {
        "id": "xXyM-yLmeLGF"
      }
    },
    {
      "cell_type": "markdown",
      "source": [
        "### Variable Descriptions of the dataset\n",
        "\n",
        "| Variable | Description |\n",
        "|-----------|-------------|\n",
        "| `appID` | Unique identifier for each Steam game |\n",
        "| `name` | Title of the game |\n",
        "| `release_date` | Game release date |\n",
        "| `price` | Current price in USD |\n",
        "| `is_free` | Indicates if the game is free to play |\n",
        "| `required_age` | Minimum player age |\n",
        "| `developers`, `publishers` | Developer and publisher information |\n",
        "| `genres`, `categories`, `tags` | Game classifications and tags |\n",
        "| `positive`, `negative` | Number of positive and negative user reviews |\n",
        "| `average_playtime_forever` | Average total playtime (in minutes) |\n",
        "| `median_playtime_forever` | Median playtime across users |\n",
        "| `estimated_owners` | Estimated ownership range |\n",
        "| `metacritic_score` | Metacritic rating (if available) |\n",
        "| `peak_ccu` | Peak concurrent users |\n",
        "\n",
        "\n",
        "Other variables such as `description`, `screenshots`, and `website` provide descriptive context but are not directly used in the quantitative analysis."
      ],
      "metadata": {
        "id": "7-wyyLI8m8qn"
      }
    },
    {
      "cell_type": "markdown",
      "source": [
        "## Dataset Cleaning\n",
        "\n"
      ],
      "metadata": {
        "id": "Zvn8IorHfYjH"
      }
    },
    {
      "cell_type": "code",
      "execution_count": null,
      "metadata": {
        "id": "ToY3edPedM6G"
      },
      "outputs": [],
      "source": []
    }
  ]
}